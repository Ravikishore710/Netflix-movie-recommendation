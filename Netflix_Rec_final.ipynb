{
  "nbformat": 4,
  "nbformat_minor": 0,
  "metadata": {
    "colab": {
      "private_outputs": true,
      "provenance": [],
      "gpuType": "V28"
    },
    "kernelspec": {
      "name": "python3",
      "display_name": "Python 3"
    },
    "language_info": {
      "name": "python"
    },
    "accelerator": "TPU"
  },
  "cells": [
    {
      "cell_type": "code",
      "metadata": {
        "id": "ab907e07"
      },
      "source": [
        "import pandas as pd\n",
        "\n",
        "keywords_df = pd.read_csv('/content/keywords.csv.zip')\n",
        "movies_metadata_df = pd.read_csv('/content/movies_metadata.csv.zip', low_memory=False)\n",
        "credits_df = pd.read_csv('/content/credits.csv.zip')"
      ],
      "execution_count": null,
      "outputs": []
    },
    {
      "cell_type": "code",
      "metadata": {
        "id": "92c20e54"
      },
      "source": [
        "print(\"Keywords DataFrame:\")\n",
        "display(keywords_df.head())\n",
        "keywords_df.info()\n",
        "display(keywords_df.describe())\n",
        "\n",
        "print(\"\\nMovies Metadata DataFrame:\")\n",
        "display(movies_metadata_df.head())\n",
        "movies_metadata_df.info()\n",
        "display(movies_metadata_df.describe())\n",
        "\n",
        "print(\"\\nCredits DataFrame:\")\n",
        "display(credits_df.head())\n",
        "credits_df.info()\n",
        "display(credits_df.describe())"
      ],
      "execution_count": null,
      "outputs": []
    },
    {
      "cell_type": "code",
      "metadata": {
        "id": "f235ff00"
      },
      "source": [
        "print(\"Missing values percentage in keywords_df:\")\n",
        "display(keywords_df.isnull().sum() * 100 / len(keywords_df))\n",
        "\n",
        "print(\"\\nMissing values percentage in movies_metadata_df:\")\n",
        "display(movies_metadata_df.isnull().sum() * 100 / len(movies_metadata_df))\n",
        "\n",
        "print(\"\\nMissing values percentage in credits_df:\")\n",
        "display(credits_df.isnull().sum() * 100 / len(credits_df))"
      ],
      "execution_count": null,
      "outputs": []
    },
    {
      "cell_type": "code",
      "metadata": {
        "id": "942f8722"
      },
      "source": [
        "movies_metadata_df = movies_metadata_df.drop(columns=['belongs_to_collection', 'homepage'])\n",
        "display(movies_metadata_df.isnull().sum() * 100 / len(movies_metadata_df))"
      ],
      "execution_count": null,
      "outputs": []
    },
    {
      "cell_type": "code",
      "metadata": {
        "id": "lgZmwdzlpZe1"
      },
      "source": [
        "# Convert columns to numeric, coercing errors\n",
        "for col in ['budget', 'popularity', 'revenue', 'runtime', 'vote_average', 'vote_count']:\n",
        "    movies_metadata_df[col] = pd.to_numeric(movies_metadata_df[col], errors='coerce')\n",
        "\n",
        "# Impute missing values in movies_metadata_df after converting to numeric\n",
        "movies_metadata_df['tagline'].fillna('Unknown', inplace=True)\n",
        "movies_metadata_df['overview'].fillna('Unknown', inplace=True)\n",
        "movies_metadata_df['poster_path'].fillna('Unknown', inplace=True)\n",
        "movies_metadata_df['production_companies'].fillna('Unknown', inplace=True)\n",
        "movies_metadata_df['production_countries'].fillna('Unknown', inplace=True)\n",
        "movies_metadata_df['spoken_languages'].fillna('Unknown', inplace=True)\n",
        "movies_metadata_df['status'].fillna('Unknown', inplace=True)\n",
        "movies_metadata_df['release_date'].fillna(movies_metadata_df['release_date'].mode()[0], inplace=True)\n",
        "movies_metadata_df['runtime'].fillna(movies_metadata_df['runtime'].mean(), inplace=True)\n",
        "movies_metadata_df['revenue'].fillna(movies_metadata_df['revenue'].mean(), inplace=True)\n",
        "movies_metadata_df['vote_average'].fillna(movies_metadata_df['vote_average'].mean(), inplace=True)\n",
        "movies_metadata_df['vote_count'].fillna(movies_metadata_df['vote_count'].mean(), inplace=True)\n",
        "movies_metadata_df['popularity'].fillna(movies_metadata_df['popularity'].mean(), inplace=True)\n",
        "movies_metadata_df['imdb_id'].fillna('Unknown', inplace=True)\n",
        "movies_metadata_df['original_language'].fillna(movies_metadata_df['original_language'].mode()[0], inplace=True)\n",
        "movies_metadata_df['title'].fillna(movies_metadata_df['title'].mode()[0], inplace=True)\n",
        "movies_metadata_df['video'].fillna(movies_metadata_df['video'].mode()[0], inplace=True)\n",
        "movies_metadata_df['budget'].fillna(movies_metadata_df['budget'].mean(), inplace=True) # Impute budget after conversion\n",
        "\n",
        "# Verify that missing values have been handled\n",
        "print(\"\\nMissing values percentage in movies_metadata_df after imputation:\")\n",
        "display(movies_metadata_df.isnull().sum() * 100 / len(movies_metadata_df))\n",
        "\n",
        "print(\"\\nMissing values percentage in keywords_df after checking:\")\n",
        "display(keywords_df.isnull().sum() * 100 / len(keywords_df))\n",
        "\n",
        "print(\"\\nMissing values percentage in credits_df after checking:\")\n",
        "display(credits_df.isnull().sum() * 100 / len(credits_df))"
      ],
      "execution_count": null,
      "outputs": []
    },
    {
      "cell_type": "code",
      "metadata": {
        "id": "cc0c52b2"
      },
      "source": [
        "print(\"Number of duplicate rows in keywords_df:\", keywords_df.duplicated().sum())\n",
        "if keywords_df.duplicated().sum() > 0:\n",
        "    keywords_df.drop_duplicates(inplace=True)\n",
        "    print(\"Duplicate rows removed from keywords_df.\")\n",
        "\n",
        "print(\"\\nNumber of duplicate rows in movies_metadata_df:\", movies_metadata_df.duplicated().sum())\n",
        "if movies_metadata_df.duplicated().sum() > 0:\n",
        "    movies_metadata_df.drop_duplicates(inplace=True)\n",
        "    print(\"Duplicate rows removed from movies_metadata_df.\")\n",
        "\n",
        "print(\"\\nNumber of duplicate rows in credits_df:\", credits_df.duplicated().sum())\n",
        "if credits_df.duplicated().sum() > 0:\n",
        "    credits_df.drop_duplicates(inplace=True)\n",
        "    print(\"Duplicate rows removed from credits_df.\")\n",
        "\n",
        "print(\"\\nNumber of rows after removing duplicates:\")\n",
        "print(\"keywords_df:\", len(keywords_df))\n",
        "print(\"movies_metadata_df:\", len(movies_metadata_df))\n",
        "print(\"credits_df:\", len(credits_df))"
      ],
      "execution_count": null,
      "outputs": []
    },
    {
      "cell_type": "code",
      "metadata": {
        "id": "a7fdfbc4"
      },
      "source": [
        "movies_metadata_df['release_date'] = pd.to_datetime(movies_metadata_df['release_date'], errors='coerce')\n",
        "movies_metadata_df['id'] = pd.to_numeric(movies_metadata_df['id'], errors='coerce')\n",
        "keywords_df['id'] = pd.to_numeric(keywords_df['id'], errors='coerce')\n",
        "credits_df['id'] = pd.to_numeric(credits_df['id'], errors='coerce')\n",
        "\n",
        "movies_metadata_df.dropna(subset=['id'], inplace=True)\n",
        "keywords_df.dropna(subset=['id'], inplace=True)\n",
        "credits_df.dropna(subset=['id'], inplace=True)\n",
        "\n",
        "print(\"Data types after conversion and dropping NaNs:\")\n",
        "movies_metadata_df.info()\n",
        "keywords_df.info()\n",
        "credits_df.info()"
      ],
      "execution_count": null,
      "outputs": []
    },
    {
      "cell_type": "code",
      "metadata": {
        "id": "7e4e2837"
      },
      "source": [
        "import ast\n",
        "\n",
        "def safe_literal_eval(data):\n",
        "    try:\n",
        "        return ast.literal_eval(data)\n",
        "    except (ValueError, SyntaxError):\n",
        "        return []\n",
        "\n",
        "for col in ['genres', 'production_companies', 'production_countries', 'spoken_languages']:\n",
        "    movies_metadata_df[col] = movies_metadata_df[col].apply(safe_literal_eval)\n",
        "\n",
        "for col in ['cast', 'crew']:\n",
        "    credits_df[col] = credits_df[col].apply(safe_literal_eval)\n",
        "\n",
        "keywords_df['keywords'] = keywords_df['keywords'].apply(safe_literal_eval)\n",
        "\n",
        "print(\"DataFrames after applying safe_literal_eval:\")\n",
        "display(movies_metadata_df.head())\n",
        "display(credits_df.head())\n",
        "display(keywords_df.head())"
      ],
      "execution_count": null,
      "outputs": []
    },
    {
      "cell_type": "code",
      "metadata": {
        "id": "e37c4d9b"
      },
      "source": [
        "def extract_names(list_of_dicts):\n",
        "    if isinstance(list_of_dicts, list):\n",
        "        return [d['name'] for d in list_of_dicts if isinstance(d, dict) and 'name' in d]\n",
        "    return []\n",
        "\n",
        "for col in ['genres', 'production_companies', 'production_countries', 'spoken_languages']:\n",
        "    movies_metadata_df[col] = movies_metadata_df[col].apply(extract_names)\n",
        "\n",
        "for col in ['cast', 'crew']:\n",
        "    # For 'cast' and 'crew', we might want more than just the name, but the instruction\n",
        "    # specifically asks for 'name'. Let's stick to the instruction for now.\n",
        "    # A more detailed extraction would involve character/job for cast/crew respectively.\n",
        "    credits_df[col] = credits_df[col].apply(extract_names)\n",
        "\n",
        "keywords_df['keywords'] = keywords_df['keywords'].apply(extract_names)\n",
        "\n",
        "print(\"DataFrames after extracting names:\")\n",
        "display(movies_metadata_df.head())\n",
        "display(credits_df.head())\n",
        "display(keywords_df.head())"
      ],
      "execution_count": null,
      "outputs": []
    },
    {
      "cell_type": "code",
      "metadata": {
        "id": "51bdab91"
      },
      "source": [
        "numerical_cols = movies_metadata_df.select_dtypes(include=['number']).columns\n",
        "print(\"Numerical columns in movies_metadata_df:\", numerical_cols)\n",
        "\n",
        "for col in numerical_cols:\n",
        "    Q1 = movies_metadata_df[col].quantile(0.25)\n",
        "    Q3 = movies_metadata_df[col].quantile(0.75)\n",
        "    IQR = Q3 - Q1\n",
        "    print(f\"\\nIQR for {col}: {IQR}\")"
      ],
      "execution_count": null,
      "outputs": []
    },
    {
      "cell_type": "code",
      "metadata": {
        "id": "8a4639d3"
      },
      "source": [
        "for col in numerical_cols:\n",
        "    Q1 = movies_metadata_df[col].quantile(0.25)\n",
        "    Q3 = movies_metadata_df[col].quantile(0.75)\n",
        "    IQR = Q3 - Q1\n",
        "    lower_bound = Q1 - 1.5 * IQR\n",
        "    upper_bound = Q3 + 1.5 * IQR\n",
        "\n",
        "    outliers = movies_metadata_df[(movies_metadata_df[col] < lower_bound) | (movies_metadata_df[col] > upper_bound)]\n",
        "    print(f\"\\nNumber of outliers in {col}: {len(outliers)}\")\n",
        "    # print(f\"Outlier range for {col}: ({lower_bound}, {upper_bound})\") # Optional: display outlier range"
      ],
      "execution_count": null,
      "outputs": []
    },
    {
      "cell_type": "code",
      "metadata": {
        "id": "6a0bc5b3"
      },
      "source": [
        "movies_keywords = pd.merge(movies_metadata_df, keywords_df, on='id', how='inner')\n",
        "merged_df = pd.merge(movies_keywords, credits_df, on='id', how='inner')\n",
        "\n",
        "print(\"First few rows of the merged DataFrame:\")\n",
        "display(merged_df.head())\n",
        "\n",
        "print(\"\\nShape of the merged DataFrame:\")\n",
        "display(merged_df.shape)"
      ],
      "execution_count": null,
      "outputs": []
    },
    {
      "cell_type": "code",
      "metadata": {
        "id": "BT2CF_GtqHje"
      },
      "source": [
        "# Convert list columns to a hashable type (tuple of strings) for duplicate checking\n",
        "list_cols = ['genres', 'production_companies', 'production_countries', 'spoken_languages', 'keywords', 'cast', 'crew']\n",
        "for col in list_cols:\n",
        "    merged_df[col] = merged_df[col].apply(lambda x: tuple(x) if isinstance(x, list) else x)\n",
        "\n",
        "num_duplicates = merged_df.duplicated().sum()\n",
        "print(f\"\\nNumber of duplicate rows in merged_df after converting list columns: {num_duplicates}\")\n",
        "\n",
        "# Convert list columns back to list of strings for potential future use\n",
        "for col in list_cols:\n",
        "     merged_df[col] = merged_df[col].apply(lambda x: list(x) if isinstance(x, tuple) else x)\n",
        "\n",
        "print(\"\\nSummary statistics for numerical columns in merged_df:\")\n",
        "display(merged_df.describe())\n"
      ],
      "execution_count": null,
      "outputs": []
    },
    {
      "cell_type": "code",
      "metadata": {
        "id": "88e29264"
      },
      "source": [
        "merged_df.to_csv('cleaned_movies_data.csv', index=False)\n",
        "print(\"Cleaned and merged DataFrame saved successfully to 'cleaned_movies_data.csv'\")"
      ],
      "execution_count": null,
      "outputs": []
    },
    {
      "cell_type": "code",
      "metadata": {
        "id": "678166d4"
      },
      "source": [
        "merged_df['budget_to_revenue_ratio'] = merged_df['budget'] / merged_df['revenue']\n",
        "merged_df['budget_to_revenue_ratio'].replace([float('inf'), float('-inf')], 0, inplace=True)\n",
        "\n",
        "merged_df['release_year'] = merged_df['release_date'].dt.year\n",
        "\n",
        "list_cols = ['genres', 'production_companies', 'production_countries', 'spoken_languages', 'keywords', 'cast', 'crew']\n",
        "for col in list_cols:\n",
        "    merged_df[f'num_{col}'] = merged_df[col].apply(len)\n",
        "\n",
        "print(\"Merged DataFrame with new features:\")\n",
        "display(merged_df.head())"
      ],
      "execution_count": null,
      "outputs": []
    },
    {
      "cell_type": "code",
      "metadata": {
        "id": "07b4f4dd"
      },
      "source": [
        "from collections import Counter\n",
        "\n",
        "# Function to get all combinations of genres for a movie\n",
        "def get_genre_combinations(genre_list):\n",
        "    return tuple(sorted(genre_list))\n",
        "\n",
        "# Apply the function and count the combinations\n",
        "genre_combinations = merged_df['genres'].apply(get_genre_combinations)\n",
        "genre_combination_counts = Counter(genre_combinations)\n",
        "\n",
        "# Get the most common combinations\n",
        "most_common_genre_combinations = genre_combination_counts.most_common(10)\n",
        "\n",
        "print(\"Most common genre combinations:\")\n",
        "for combination, count in most_common_genre_combinations:\n",
        "    print(f\"{', '.join(combination) if combination else 'No Genres'}: {count}\")"
      ],
      "execution_count": null,
      "outputs": []
    },
    {
      "cell_type": "code",
      "metadata": {
        "id": "9d6e4913"
      },
      "source": [
        "# Flatten the list of production companies and count their occurrences\n",
        "all_production_companies = [company for sublist in merged_df['production_companies'] for company in sublist]\n",
        "production_company_counts = Counter(all_production_companies)\n",
        "\n",
        "# Get the most common production companies\n",
        "most_common_production_companies = production_company_counts.most_common(20)\n",
        "\n",
        "print(\"Most common production companies:\")\n",
        "for company, count in most_common_production_companies:\n",
        "    print(f\"{company}: {count}\")\n",
        "\n",
        "# Visualize the top production companies\n",
        "top_companies_df = pd.DataFrame(most_common_production_companies, columns=['Company', 'Number of Movies'])\n",
        "\n",
        "plt.figure(figsize=(12, 8))\n",
        "sns.barplot(x='Number of Movies', y='Company', data=top_companies_df, palette='viridis')\n",
        "plt.title('Top 20 Production Companies by Number of Movies')\n",
        "plt.xlabel('Number of Movies')\n",
        "plt.ylabel('Production Company')\n",
        "plt.tight_layout()\n",
        "plt.show()"
      ],
      "execution_count": null,
      "outputs": []
    },
    {
      "cell_type": "code",
      "metadata": {
        "id": "1a9efbc9"
      },
      "source": [
        "from sklearn.feature_extraction.text import TfidfVectorizer\n",
        "from sklearn.metrics.pairwise import cosine_similarity\n",
        "\n",
        "# Combine relevant text features into a single string\n",
        "def combine_features(row):\n",
        "    return ' '.join(row['genres']) + ' ' + ' '.join(row['keywords']) + ' ' + ' '.join(row['cast']) + ' ' + ' '.join(row['crew'])\n",
        "\n",
        "merged_df['combined_features'] = merged_df.apply(combine_features, axis=1)\n",
        "\n",
        "# Create a TF-IDF Vectorizer\n",
        "tfidf_vectorizer = TfidfVectorizer(stop_words='english')\n",
        "\n",
        "# Fit and transform the combined features\n",
        "tfidf_matrix = tfidf_vectorizer.fit_transform(merged_df['combined_features'])\n",
        "\n",
        "print(\"TF-IDF matrix shape:\", tfidf_matrix.shape)\n",
        "\n",
        "# Compute the cosine similarity matrix\n",
        "cosine_sim = cosine_similarity(tfidf_matrix, tfidf_matrix)\n",
        "\n",
        "print(\"Cosine similarity matrix shape:\", cosine_sim.shape)"
      ],
      "execution_count": null,
      "outputs": []
    },
    {
      "cell_type": "code",
      "metadata": {
        "id": "f3641d12"
      },
      "source": [
        "# Function to get movie recommendations\n",
        "def get_recommendations(movie_title, cosine_sim=cosine_sim, df=merged_df):\n",
        "    \"\"\"\n",
        "    Generates movie recommendations based on cosine similarity.\n",
        "\n",
        "    Args:\n",
        "        movie_title (str): The title of the movie to get recommendations for.\n",
        "        cosine_sim (numpy.ndarray): The cosine similarity matrix.\n",
        "        df (pandas.DataFrame): The DataFrame containing movie information.\n",
        "\n",
        "    Returns:\n",
        "        pandas.DataFrame: A DataFrame of the top 5 recommended movies.\n",
        "    \"\"\"\n",
        "    # Get the index of the movie that matches the title\n",
        "    indices = df[df['title'] == movie_title].index\n",
        "\n",
        "    if len(indices) == 0:\n",
        "        print(f\"Movie '{movie_title}' not found in the dataset.\")\n",
        "        return pd.DataFrame()\n",
        "\n",
        "    # Assuming the first match is the desired movie\n",
        "    idx = indices[0]\n",
        "\n",
        "    # Get the pairwise similarity scores with that movie\n",
        "    sim_scores = list(enumerate(cosine_sim[idx]))\n",
        "\n",
        "    # Sort the movies based on the similarity scores\n",
        "    sim_scores = sorted(sim_scores, key=lambda x: x[1], reverse=True)\n",
        "\n",
        "    # Get the scores of the 6 most similar movies (excluding the movie itself)\n",
        "    sim_scores = sim_scores[1:6]\n",
        "\n",
        "    # Get the movie indices\n",
        "    movie_indices = [i[0] for i in sim_scores]\n",
        "\n",
        "    # Return the top 5 most similar movies\n",
        "    return df[['title', 'genres', 'vote_average', 'vote_count']].iloc[movie_indices]\n",
        "\n",
        "# Get recommendations for a sample movie (e.g., 'Toy Story') for user 'x'\n",
        "sample_movie_for_user_x = 'Toy Story'\n",
        "recommendations_for_user_x = get_recommendations(sample_movie_for_user_x)\n",
        "\n",
        "print(f\"Top 5 movie recommendations for user 'x' (based on liking '{sample_movie_for_user_x}'):\")\n",
        "display(recommendations_for_user_x)"
      ],
      "execution_count": null,
      "outputs": []
    }
  ]
}